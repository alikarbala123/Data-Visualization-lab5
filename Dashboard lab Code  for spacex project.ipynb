{
 "cells": [
  {
   "cell_type": "markdown",
   "id": "0d52d81b",
   "metadata": {},
   "source": [
    "<h1>Please run the following code</h1>"
   ]
  },
  {
   "cell_type": "code",
   "execution_count": null,
   "id": "492018e9",
   "metadata": {
    "scrolled": true
   },
   "outputs": [
    {
     "name": "stdout",
     "output_type": "stream",
     "text": [
      "Dash is running on http://127.0.0.1:8050/\n",
      "\n",
      " * Serving Flask app \"__main__\" (lazy loading)\n",
      " * Environment: production\n",
      "\u001b[31m   WARNING: This is a development server. Do not use it in a production deployment.\u001b[0m\n",
      "\u001b[2m   Use a production WSGI server instead.\u001b[0m\n",
      " * Debug mode: off\n"
     ]
    },
    {
     "name": "stderr",
     "output_type": "stream",
     "text": [
      " * Running on http://127.0.0.1:8050/ (Press CTRL+C to quit)\n"
     ]
    }
   ],
   "source": [
    "# Import required libraries\n",
    "import pandas as pd\n",
    "import dash\n",
    "from dash import html\n",
    "from dash import dcc\n",
    "from dash.dependencies import Input, Output\n",
    "import plotly.express as px\n",
    "#wget \"https://cf-courses-data.s3.us.cloud-object-storage.appdomain.cloud/IBM-DS0321EN-SkillsNetwork/datasets/spacex_launch_dash.csv\"\n",
    "# Read the airline data into pandas dataframe\n",
    "spacex_df = pd.read_csv('https://cf-courses-data.s3.us.cloud-object-storage.appdomain.cloud/IBM-DS0321EN-SkillsNetwork/datasets/spacex_launch_dash.csv')\n",
    "max_payload = spacex_df['Payload Mass (kg)'].max()\n",
    "min_payload = spacex_df['Payload Mass (kg)'].min()\n",
    "\n",
    "# Create a dash application\n",
    "app = dash.Dash(__name__)\n",
    "\n",
    "# Create an app layout\n",
    "app.layout = html.Div(children=[html.H1('SpaceX Launch Records Dashboard',\n",
    "                                        style={'textAlign': 'center', 'color': '#503D36',\n",
    "                                               'font-size': 40}),\n",
    "                                # TASK 1: Add a dropdown list to enable Launch Site selection\n",
    "                                # The default select value is for ALL sites\n",
    "                                 dcc.Dropdown(id='site-dropdown',options=[\n",
    "                                     {'label': 'All Sites', 'value': 'ALL'},\n",
    "                                     {'label': 'CCAFS LC-40', 'value': 'CCAFS-LC-40'},\n",
    "                                     {'label': 'VAFB SLC-4E', 'value': 'VAFB SLC-4E'},\n",
    "                                     {'label': 'CCAFS SLC-40', 'value': 'CCAFS SLC-40'},\n",
    "                                     {'label': 'KSC LC-39A', 'value': 'KSC LC-39A'}\n",
    "                                     ],placeholder=\"Select a Launch Site here\"),\n",
    "                                html.Br(),\n",
    "\n",
    "                                # TASK 2: Add a pie chart to show the total successful launches count for all sites\n",
    "                                # If a specific launch site was selected, show the Success vs. Failed counts for the site\n",
    "                                html.Div(dcc.Graph(id='success-pie-chart')),\n",
    "                                html.Br(),\n",
    "\n",
    "                                html.P(\"Payload range (Kg):\"),dcc.RangeSlider(\n",
    "                                    id='payload-slider',min=0, max=10000, step=1000,\n",
    "                                    marks={0: '0',100: '100'},\n",
    "                                    value=[min_payload,max_payload]),\n",
    "                                # TASK 3: Add a slider to select payload range\n",
    "                                #dcc.RangeSlider(id='payload-slider',...)\n",
    "\n",
    "                                # TASK 4: Add a scatter chart to show the correlation between payload and launch success\n",
    "                                html.Div(dcc.Graph(id='success-payload-scatter-chart')),\n",
    "                                ])\n",
    "\n",
    "# TASK 2:\n",
    "# Add a callback function for `site-dropdown` as input, `success-pie-chart` as output\n",
    "# Function decorator to specify function input and output\n",
    "@app.callback(Output(component_id='success-pie-chart', component_property='figure'),\n",
    "Input(component_id='site-dropdown', component_property='value'))\n",
    "def get_pie_chart(entered_site):\n",
    "    filtered_df = spacex_df\n",
    "    if entered_site == 'ALL':\n",
    "        fig = px.pie(filtered_df, \n",
    "        names='Launch Site', \n",
    "        title='Launch Success Counts')\n",
    "        return fig\n",
    "    elif entered_site == 'CCAFS LC-40':\n",
    "        fig = px.pie(filtered_df[filtered_df['Launch Site']=='CCAFS LC-40'], \n",
    "        names='class', \n",
    "        title='Launch Success Counts for CCAFS LC-40')\n",
    "        return fig\n",
    "    elif entered_site == 'VAFB SLC-4E':\n",
    "        fig = px.pie(filtered_df[filtered_df['Launch Site']=='VAFB SLC-4E'],\n",
    "        names='class', \n",
    "        title='Launch Success Counts for VAFB SLC-4E')\n",
    "        return fig\n",
    "    elif entered_site == 'CCAFS SLC-40':\n",
    "        fig = px.pie(filtered_df[filtered_df['Launch Site']=='CCAFS SLC-40'], \n",
    "        names='class', \n",
    "        title='Launch Success Counts for CCAFS SLC-40')\n",
    "        return fig\n",
    "    elif entered_site == 'KSC LC-39A':\n",
    "        fig = px.pie(filtered_df[filtered_df['Launch Site']=='KSC LC-39A'], \n",
    "        names='class', \n",
    "        title='Launch Success Counts for KSC LC-39A')\n",
    "        return fig\n",
    "    return fig \n",
    "# TASK 4:\n",
    "# Add a callback function for `site-dropdown` and `payload-slider` as inputs, `success-payload-scatter-chart` as output\n",
    "@app.callback(Output(component_id='success-payload-scatter-chart',\n",
    " component_property='figure'),\n",
    "[Input(component_id='site-dropdown',\n",
    " component_property='value'),\n",
    " Input(component_id=\"payload-slider\",\n",
    "  component_property=\"value\")])\n",
    "\n",
    "def get_scatter_chart(entered_site,payload):\n",
    "    filtered_df = spacex_df\n",
    "    if entered_site == 'ALL':\n",
    "        fig = px.scatter(data_frame=filtered_df,\n",
    "                         x='Payload Mass (kg)', y='class',title='Correlation between Payload and Success for all sites',\n",
    "                         range_x=payload,color=\"Booster Version Category\")\n",
    "        return fig\n",
    "    elif entered_site == 'CCAFS LC-40':\n",
    "        fig = px.scatter(data_frame=filtered_df[filtered_df['Launch Site']=='CCAFS LC-40'],\n",
    "                         x='Payload Mass (kg)', y='class',title='Correlation between Payload and Success for CCAFS LC-40',\n",
    "                         range_x=payload,color=\"Booster Version Category\")\n",
    "        return fig\n",
    "    elif entered_site == 'VAFB SLC-4E':\n",
    "        fig = px.scatter(data_frame=filtered_df[filtered_df['Launch Site']=='VAFB SLC-4E'],\n",
    "                         x='Payload Mass (kg)', y='class',title='Correlation between Payload and Success for VAFB SLC-4E',\n",
    "                         range_x=payload,color=\"Booster Version Category\")\n",
    "        return fig\n",
    "    elif entered_site == 'CCAFS SLC-40':\n",
    "        fig = px.scatter(data_frame=filtered_df[filtered_df['Launch Site']=='CCAFS SLC-40'],\n",
    "                         x='Payload Mass (kg)', y='class',title='Correlation between Payload and Success for CCAFS SLC-40',\n",
    "                         range_x=payload,color=\"Booster Version Category\")\n",
    "        return fig\n",
    "    elif entered_site == 'KSC LC-39A':\n",
    "        fig = px.scatter(data_frame=filtered_df[filtered_df['Launch Site']=='KSC LC-39A'],\n",
    "                         x='Payload Mass (kg)', y='class',title='Correlation between Payload and Success for KSC LC-39A',\n",
    "                         range_x=payload,color=\"Booster Version Category\")\n",
    "        return fig\n",
    "    return fig\n",
    "            \n",
    "\n",
    "# Run the app\n",
    "if __name__ == '__main__':\n",
    "    app.run_server()\n"
   ]
  },
  {
   "cell_type": "markdown",
   "id": "f308b85d",
   "metadata": {},
   "source": [
    "<h1>Press the link to get the dashboard</h1>"
   ]
  },
  {
   "cell_type": "markdown",
   "id": "988b18d5",
   "metadata": {},
   "source": [
    "<h3>Note:if you are viewing this lab on github and want to view the dashboard, copy the raw contents and run it on your local host</h3>"
   ]
  }
 ],
 "metadata": {
  "kernelspec": {
   "display_name": "Python 3 (ipykernel)",
   "language": "python",
   "name": "python3"
  },
  "language_info": {
   "codemirror_mode": {
    "name": "ipython",
    "version": 3
   },
   "file_extension": ".py",
   "mimetype": "text/x-python",
   "name": "python",
   "nbconvert_exporter": "python",
   "pygments_lexer": "ipython3",
   "version": "3.9.15"
  }
 },
 "nbformat": 4,
 "nbformat_minor": 5
}
